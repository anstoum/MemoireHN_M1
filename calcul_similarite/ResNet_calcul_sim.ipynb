{
  "cells": [
    {
      "cell_type": "code",
      "execution_count": 1,
      "metadata": {
        "id": "ErLPbWlewn_W"
      },
      "outputs": [],
      "source": [
        "import os\n",
        "import pandas as pd\n",
        "import torch\n",
        "import torchvision.transforms as transforms\n",
        "import torchvision.models as models\n",
        "from PIL import Image\n",
        "import numpy as np\n",
        "import matplotlib.pyplot as plt"
      ]
    },
    {
      "cell_type": "code",
      "execution_count": null,
      "metadata": {
        "colab": {
          "base_uri": "https://localhost:8080/"
        },
        "id": "02Wdkuanwn_Y",
        "outputId": "11df25ce-7f51-4c36-f3de-88cd0ea20dcd"
      },
      "outputs": [],
      "source": [
        "model = models.resnet18(pretrained=True)\n",
        "model = torch.nn.Sequential(*list(model.children())[:-1])\n",
        "model.eval()"
      ]
    },
    {
      "cell_type": "code",
      "execution_count": 3,
      "metadata": {
        "id": "zXSMNorrwn_a"
      },
      "outputs": [],
      "source": [
        "def cos_sim(im1, im2):\n",
        "    return np.dot(im1, im2) / (np.linalg.norm(im1) * np.linalg.norm(im2))"
      ]
    },
    {
      "cell_type": "code",
      "execution_count": 4,
      "metadata": {
        "id": "zchtNow3wn_a"
      },
      "outputs": [],
      "source": [
        "transform = transforms.Compose([\n",
        "    transforms.ToTensor(),\n",
        "    transforms.Normalize((0.485, 0.456, 0.406), (0.229, 0.224, 0.225)),\n",
        "])\n",
        "\n",
        "def get_features(model, im_path, transform):\n",
        "    im = Image.open(im_path).convert('RGB')\n",
        "    im = im.resize((256,256))\n",
        "    img_tensor = transform(im)\n",
        "    features_tensor = model(img_tensor.unsqueeze(0))\n",
        "    vector = features_tensor.cpu().detach().numpy()\n",
        "    flat = np.ndarray.flatten(vector)\n",
        "    return flat\n",
        "\n"
      ]
    },
    {
      "cell_type": "code",
      "execution_count": 5,
      "metadata": {
        "id": "-7cLsuwdwn_b"
      },
      "outputs": [],
      "source": [
        "\n",
        "def calcul_simi(model, path_img, path_dir):\n",
        "    target_features = get_features(model, path_img, transform)\n",
        "\n",
        "    image_files = [img for img in os.listdir(path_dir) if os.path.isfile(os.path.join(path_dir, img)) and img.lower().endswith(('.jpeg', '.jpg', '.png'))]\n",
        "\n",
        "    similarities = []\n",
        "\n",
        "    for image_file in image_files:\n",
        "        image_path = os.path.join(path_dir, image_file)\n",
        "        if image_path != path_img:\n",
        "            features = get_features(model, image_path, transform)\n",
        "            similarity = cos_sim(target_features, features)\n",
        "            similarities.append((similarity, image_path))\n",
        "\n",
        "    similarities.sort(reverse=True, key=lambda x: x[0])\n",
        "    sim_top5 = similarities[:5]\n",
        "\n",
        "    fig, axes = plt.subplots(1, 6, figsize=(20, 10))\n",
        "\n",
        "    target_img = Image.open(path_img)\n",
        "    axes[0].imshow(target_img)\n",
        "    axes[0].set_title('Objet de référence')\n",
        "    axes[0].axis('off')\n",
        "\n",
        "    for i, (sim, img_path) in enumerate(sim_top5):\n",
        "        img = Image.open(img_path)\n",
        "        axes[i + 1].imshow(img)\n",
        "        axes[i + 1].set_title(f'{i + 1}')\n",
        "        axes[i + 1].axis('off')\n",
        "\n",
        "    plt.show()\n",
        "    return sim_top5\n"
      ]
    },
    {
      "cell_type": "code",
      "execution_count": 24,
      "metadata": {
        "id": "tOk8DvEUwn_c"
      },
      "outputs": [],
      "source": [
        "path_dir = './mini_corpus'\n",
        "path_img = ''"
      ]
    },
    {
      "cell_type": "code",
      "execution_count": null,
      "metadata": {
        "colab": {
          "base_uri": "https://localhost:8080/",
          "height": 305
        },
        "id": "yq0ZAMZEwn_d",
        "outputId": "317d2a84-4480-4d9d-81e7-f4de7a3bba4f"
      },
      "outputs": [],
      "source": [
        "with torch.no_grad():\n",
        "    sim_top5=calcul_simi(model, path_img, path_dir)\n"
      ]
    }
  ],
  "metadata": {
    "colab": {
      "provenance": []
    },
    "kernelspec": {
      "display_name": "Python 3",
      "name": "python3"
    },
    "language_info": {
      "codemirror_mode": {
        "name": "ipython",
        "version": 3
      },
      "file_extension": ".py",
      "mimetype": "text/x-python",
      "name": "python",
      "nbconvert_exporter": "python",
      "pygments_lexer": "ipython3",
      "version": "3.8.18"
    }
  },
  "nbformat": 4,
  "nbformat_minor": 0
}
