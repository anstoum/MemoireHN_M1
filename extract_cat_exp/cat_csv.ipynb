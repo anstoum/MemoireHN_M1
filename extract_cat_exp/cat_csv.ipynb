{
 "cells": [
  {
   "cell_type": "code",
   "execution_count": 6,
   "metadata": {},
   "outputs": [],
   "source": [
    "import os\n",
    "import spacy\n",
    "nlp = spacy.load('fr_core_news_md')\n",
    "from spacy.matcher import Matcher\n",
    "import re\n",
    "import pandas as pd"
   ]
  },
  {
   "cell_type": "code",
   "execution_count": 7,
   "metadata": {},
   "outputs": [],
   "source": [
    "def import_text(path_txt) :\n",
    "    with open(path_txt) as t:\n",
    "        texte=t.read()\n",
    "    return texte"
   ]
  },
  {
   "cell_type": "code",
   "execution_count": 8,
   "metadata": {},
   "outputs": [],
   "source": [
    "def nettoyage(txt) :\n",
    "    txt_net=txt.replace('¬\\n','').replace('\\n', ' ')\n",
    "    return (txt_net)"
   ]
  },
  {
   "cell_type": "code",
   "execution_count": 9,
   "metadata": {},
   "outputs": [],
   "source": [
    "#Recherche approximative pour vérifier les occurences d'un même mot.\n",
    "def fuzzy_verif(terme, doc_txt) :\n",
    "    pattern = [{\"FUZZY\": terme}]\n",
    "    matcher=Matcher(nlp.vocab)\n",
    "    match_name=terme.replace(' ','')\n",
    "    matcher.add('match',[pattern])\n",
    "    matches = matcher(doc_text)\n",
    "\n",
    "    for match_id, start, end in matches:\n",
    "        span = doc_text[start:end]  \n",
    "        print(f\"Match found: {span.text}, at positions: {start} - {end}\")\n",
    "    "
   ]
  },
  {
   "cell_type": "code",
   "execution_count": 10,
   "metadata": {},
   "outputs": [],
   "source": [
    "\n",
    "def dict2df(date_expo, dict_preteurs):\n",
    "    rows = []\n",
    "    for nom_preteur, dict_coll in dict_preteurs.items():\n",
    "        for id_object, description in dict_coll.items():\n",
    "            rows.append({\n",
    "                'date_expo': date_expo,\n",
    "                'id_object': id_object,\n",
    "                'description': description,\n",
    "                'nom_preteur': nom_preteur\n",
    "            })\n",
    "\n",
    "    df_expo = pd.DataFrame(rows, columns=['date_expo', 'id_object', 'description', 'nom_preteur'])\n",
    "    return df_expo"
   ]
  },
  {
   "cell_type": "code",
   "execution_count": 11,
   "metadata": {},
   "outputs": [],
   "source": [
    "\n",
    "def df_NER(df, col_name):\n",
    "    list_tuples = [(description, index) for index, description in enumerate(df[col_name])]\n",
    "    list_tuples_NER = []\n",
    "\n",
    "    for description, index in list_tuples:\n",
    "        doc_desc = nlp(description)\n",
    "        for ent in doc_desc.ents:\n",
    "            if ent.label_ == \"LOC\":\n",
    "                list_tuples_NER.append((index, ent.text))\n",
    "\n",
    "    nv_df = df.copy(deep=True)\n",
    "    nv_df['NER'] = None\n",
    "\n",
    "    for index, location in list_tuples_NER:\n",
    "        nv_df.at[index, 'NER'] = location\n",
    "\n",
    "    return nv_df"
   ]
  },
  {
   "cell_type": "markdown",
   "metadata": {},
   "source": [
    "# Catalogue de l'exposition de 1893"
   ]
  },
  {
   "cell_type": "code",
   "execution_count": 12,
   "metadata": {},
   "outputs": [],
   "source": [
    "path_txt_1893 = './catExp_txt_nett/1893_cat_collections.txt'"
   ]
  },
  {
   "cell_type": "code",
   "execution_count": 13,
   "metadata": {},
   "outputs": [],
   "source": [
    "texte=import_text(path_txt_1893)"
   ]
  },
  {
   "cell_type": "code",
   "execution_count": 15,
   "metadata": {},
   "outputs": [],
   "source": [
    "liste_collections=texte.split('COLLECTION DE')"
   ]
  },
  {
   "cell_type": "code",
   "execution_count": null,
   "metadata": {},
   "outputs": [],
   "source": [
    "\n",
    "dict_preteurs = {}\n",
    "\n",
    "for coll in liste_collections:\n",
    "    dict_coll = {}\n",
    "    txt_coll = nettoyage(coll)\n",
    "    liste_items_coll = re.split(r'\\s(?=\\d+\\.)', txt_coll)\n",
    "    nom_preteur = liste_items_coll[0].strip().lower()\n",
    "    nom_preteur = nom_preteur.replace('collection de', '')\n",
    "    nom_preteur = \" \".join(w.capitalize() for w in nom_preteur.split())\n",
    "\n",
    "    for item in liste_items_coll[1:]:  \n",
    "        id_object = item.split('.')[0].strip()\n",
    "        objet = item[len(id_object) + 1:].strip()\n",
    "        dict_coll[id_object] = objet\n",
    "\n",
    "    dict_preteurs[nom_preteur] = dict_coll\n",
    "\n",
    "print(dict_preteurs)\n"
   ]
  },
  {
   "cell_type": "code",
   "execution_count": 17,
   "metadata": {},
   "outputs": [],
   "source": [
    "df_expo_1893 = dict2df('1893', dict_preteurs)"
   ]
  },
  {
   "cell_type": "code",
   "execution_count": 18,
   "metadata": {},
   "outputs": [],
   "source": [
    "df_expo_1893.to_csv('expo_1893.csv')"
   ]
  },
  {
   "cell_type": "code",
   "execution_count": 19,
   "metadata": {},
   "outputs": [],
   "source": [
    "df_expo_1893_NER = df_NER(df_expo_1893, 'description')"
   ]
  },
  {
   "cell_type": "code",
   "execution_count": 20,
   "metadata": {},
   "outputs": [],
   "source": [
    "df_expo_1893_NER.to_csv('expo_1893_NER.csv')"
   ]
  },
  {
   "cell_type": "markdown",
   "metadata": {},
   "source": [
    "# Catalogue de l'exposition de 1903"
   ]
  },
  {
   "cell_type": "code",
   "execution_count": 21,
   "metadata": {},
   "outputs": [],
   "source": [
    "path_txt_1903 = './catExp_txt_nett/1903_OCR_bnf_coll.txt'"
   ]
  },
  {
   "cell_type": "code",
   "execution_count": 22,
   "metadata": {},
   "outputs": [],
   "source": [
    "texte_1903 = import_text(path_txt_1903)"
   ]
  },
  {
   "cell_type": "code",
   "execution_count": 23,
   "metadata": {},
   "outputs": [],
   "source": [
    "list_items = re.split(r'\\s(?=\\d+\\.)', texte_1903)"
   ]
  },
  {
   "cell_type": "code",
   "execution_count": 24,
   "metadata": {},
   "outputs": [],
   "source": [
    "liste_tuples_items = []\n",
    "date_expo = '1903'\n",
    "\n",
    "for item in list_items :\n",
    "    if item[0].isdigit():\n",
    "        id_object = item.split('.')[0]\n",
    "            \n",
    "        if \"Appartenant\" in item : \n",
    "            appartenant = re.split(r\"\\b(?=Appartenant)\", item)[1]\n",
    "            appartenant = appartenant.split('\\n')[0]\n",
    "            nom_preteur = appartenant.replace(\"Appartenant\", \"\").replace(\"à\", \"\")\n",
    "            nom_preteur=nom_preteur.strip(' ')\n",
    "            nom_preteur = \" \".join(w.capitalize() for w in nom_preteur.split())\n",
    "\n",
    "            description = re.split(r\"\\b(?=Appartenant)\", item)[0]\n",
    "            description=description[(len(id_object)+1):] #Supprime le numéro d'inventaire au début de la description\n",
    "\n",
    "        else :\n",
    "            description=item.split('.')[1][(len(id_object)+1):]\n",
    "            description=nettoyage(description)\n",
    "        \n",
    "        \n",
    "        liste_tuples_items.append((date_expo, id_object, description, nom_preteur))\n",
    "\n",
    "\n",
    "df_expo_1903 = pd.DataFrame(liste_tuples_items, columns=['date_expo', 'id_object', 'description', 'nom_preteur'])\n",
    "     "
   ]
  },
  {
   "cell_type": "code",
   "execution_count": 25,
   "metadata": {},
   "outputs": [],
   "source": [
    "df_expo_1903.to_csv('expo_1903.csv')"
   ]
  },
  {
   "cell_type": "code",
   "execution_count": 26,
   "metadata": {},
   "outputs": [],
   "source": [
    "df_expo_1903_NER = df_NER(df_expo_1903, 'description')"
   ]
  },
  {
   "cell_type": "code",
   "execution_count": 28,
   "metadata": {},
   "outputs": [],
   "source": [
    "df_expo_1903_NER.to_csv('expo_1903_NER.csv')"
   ]
  },
  {
   "cell_type": "markdown",
   "metadata": {},
   "source": [
    "# CSV final"
   ]
  },
  {
   "cell_type": "code",
   "execution_count": 32,
   "metadata": {},
   "outputs": [],
   "source": [
    "#CSV sans NER\n",
    "df_expos = pd.concat([df_expo_1893, df_expo_1903], axis=0, ignore_index=True)\n",
    "df_expos.to_csv('expositions.csv')"
   ]
  },
  {
   "cell_type": "code",
   "execution_count": 33,
   "metadata": {},
   "outputs": [],
   "source": [
    "df_expos_NER = pd.concat([df_expo_1893_NER, df_expo_1903_NER], axis=0, ignore_index=True)\n",
    "df_expos_NER.to_csv('expositions_NER.csv')"
   ]
  }
 ],
 "metadata": {
  "kernelspec": {
   "display_name": "test",
   "language": "python",
   "name": "python3"
  },
  "language_info": {
   "codemirror_mode": {
    "name": "ipython",
    "version": 3
   },
   "file_extension": ".py",
   "mimetype": "text/x-python",
   "name": "python",
   "nbconvert_exporter": "python",
   "pygments_lexer": "ipython3",
   "version": "3.8.18"
  }
 },
 "nbformat": 4,
 "nbformat_minor": 2
}
