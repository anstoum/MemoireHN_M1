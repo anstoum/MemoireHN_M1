{
 "cells": [
  {
   "cell_type": "code",
   "execution_count": 1,
   "metadata": {},
   "outputs": [],
   "source": [
    "from ultralytics import YOLO\n",
    "from sklearn.model_selection import train_test_split\n"
   ]
  },
  {
   "cell_type": "code",
   "execution_count": null,
   "metadata": {},
   "outputs": [],
   "source": [
    "model = YOLO('yolov8n.pt')"
   ]
  },
  {
   "cell_type": "code",
   "execution_count": 14,
   "metadata": {},
   "outputs": [],
   "source": [
    "dataset_dir = './dataset/'\n",
    "img_dir = './dataset/img'\n",
    "labels_dir = './dataset/labels'"
   ]
  },
  {
   "cell_type": "code",
   "execution_count": 10,
   "metadata": {},
   "outputs": [],
   "source": [
    "train_dir = './dataset/data/train'\n",
    "val_dir = './dataset/data/val'"
   ]
  },
  {
   "cell_type": "code",
   "execution_count": 11,
   "metadata": {},
   "outputs": [],
   "source": [
    "os.makedirs(os.path.join(train_dir, 'images'), exist_ok=True)\n",
    "os.makedirs(os.path.join(train_dir, 'labels'), exist_ok=True)\n",
    "os.makedirs(os.path.join(val_dir, 'images'), exist_ok=True)\n",
    "os.makedirs(os.path.join(val_dir, 'labels'), exist_ok=True)"
   ]
  },
  {
   "cell_type": "code",
   "execution_count": 16,
   "metadata": {},
   "outputs": [],
   "source": [
    "images = [fichier for fichier in os.listdir(img_dir) if os.path.isfile(os.path.join(img_dir, fichier))and fichier.lower().endswith(('.jpeg', '.jpg', '.png'))]"
   ]
  },
  {
   "cell_type": "code",
   "execution_count": 17,
   "metadata": {},
   "outputs": [],
   "source": [
    "labels = [image[:-3] + 'txt' for image in images]"
   ]
  },
  {
   "cell_type": "code",
   "execution_count": 18,
   "metadata": {},
   "outputs": [],
   "source": [
    "image_label = list(zip(images, labels))"
   ]
  },
  {
   "cell_type": "code",
   "execution_count": null,
   "metadata": {},
   "outputs": [],
   "source": [
    "image_label"
   ]
  },
  {
   "cell_type": "code",
   "execution_count": 19,
   "metadata": {},
   "outputs": [],
   "source": [
    "train_pair, val_pair = train_test_split(image_label, test_size=0.2, random_state=42)"
   ]
  },
  {
   "cell_type": "code",
   "execution_count": 20,
   "metadata": {},
   "outputs": [],
   "source": [
    "def copy_files(pairs, dest_img_dir, dest_labels_dir):\n",
    "    for img_name, label_name in pairs:\n",
    "        shutil.copy(os.path.join(img_dir, img_name), dest_img_dir)\n",
    "        label_path = os.path.join(labels_dir, label_name)\n",
    "        \n",
    "        if os.path.exists(label_path):\n",
    "            shutil.copy(label_path, dest_labels_dir)\n",
    "        else:\n",
    "            print('nanana')"
   ]
  },
  {
   "cell_type": "code",
   "execution_count": 21,
   "metadata": {},
   "outputs": [],
   "source": [
    "copy_files(train_pair, os.path.join(train_dir, \"images\"), os.path.join(train_dir, \"labels\"))"
   ]
  },
  {
   "cell_type": "code",
   "execution_count": 22,
   "metadata": {},
   "outputs": [],
   "source": [
    "copy_files(val_pair, os.path.join(val_dir, \"images\"), os.path.join(val_dir, \"labels\"))"
   ]
  },
  {
   "cell_type": "code",
   "execution_count": 27,
   "metadata": {},
   "outputs": [],
   "source": [
    "config_path = 'config.yml'"
   ]
  },
  {
   "cell_type": "code",
   "execution_count": null,
   "metadata": {},
   "outputs": [],
   "source": [
    "results = model.train(data='config.yml',\n",
    "                      epochs=30,\n",
    "                      batch=2,\n",
    "                      flipud=0,\n",
    "                      fliplr=0,\n",
    "                      imgsz=640)"
   ]
  },
  {
   "cell_type": "code",
   "execution_count": null,
   "metadata": {},
   "outputs": [],
   "source": [
    "path_img_test = ' '"
   ]
  },
  {
   "cell_type": "code",
   "execution_count": null,
   "metadata": {},
   "outputs": [],
   "source": [
    "result = model.predict(path_img_test, save=True, boxes=True)"
   ]
  }
 ],
 "metadata": {
  "kernelspec": {
   "display_name": "test",
   "language": "python",
   "name": "python3"
  },
  "language_info": {
   "codemirror_mode": {
    "name": "ipython",
    "version": 3
   },
   "file_extension": ".py",
   "mimetype": "text/x-python",
   "name": "python",
   "nbconvert_exporter": "python",
   "pygments_lexer": "ipython3",
   "version": "3.8.18"
  }
 },
 "nbformat": 4,
 "nbformat_minor": 2
}
